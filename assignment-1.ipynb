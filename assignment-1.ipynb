{
 "cells": [
  {
   "cell_type": "code",
   "execution_count": 2,
   "id": "2178a561",
   "metadata": {},
   "outputs": [
    {
     "name": "stdout",
     "output_type": "stream",
     "text": [
      "Accuracy: 0.4418604651162791\n",
      "Classification Report:\n",
      "              precision    recall  f1-score   support\n",
      "\n",
      "           1       0.41      0.58      0.48        12\n",
      "           2       0.50      0.24      0.32        17\n",
      "           3       0.40      0.50      0.44         4\n",
      "           5       0.00      0.00      0.00         2\n",
      "           6       0.33      0.50      0.40         2\n",
      "           7       0.83      0.83      0.83         6\n",
      "\n",
      "    accuracy                           0.44        43\n",
      "   macro avg       0.41      0.44      0.41        43\n",
      "weighted avg       0.48      0.44      0.44        43\n",
      "\n"
     ]
    }
   ],
   "source": [
    "#question -1 \n",
    "import pandas as pd\n",
    "from sklearn.model_selection import train_test_split\n",
    "from sklearn.naive_bayes import GaussianNB\n",
    "from sklearn.metrics import classification_report\n",
    "\n",
    "# Load the dataset\n",
    "glass_data = pd.read_csv('glass.csv')\n",
    "X = glass_data.drop('Type', axis=1)\n",
    "y = glass_data['Type']\n",
    "\n",
    "# Split the data into training and testing sets\n",
    "X_train, X_test, y_train, y_test = train_test_split(X, y, test_size=0.2, random_state=30)\n",
    "\n",
    "# Create an instance of the Naïve Bayes classifier\n",
    "nb_classifier = GaussianNB()\n",
    "nb_classifier.fit(X_train, y_train)\n",
    "y_pred = nb_classifier.predict(X_test)\n",
    "\n",
    "# Calculate the accuracy score\n",
    "accuracy = nb_classifier.score(X_test, y_test)\n",
    "print(\"Accuracy:\", accuracy)\n",
    "report = classification_report(y_test, y_pred)\n",
    "print(\"Classification Report:\")\n",
    "print(report)\n"
   ]
  },
  {
   "cell_type": "code",
   "execution_count": 4,
   "id": "32f49476",
   "metadata": {},
   "outputs": [
    {
     "name": "stdout",
     "output_type": "stream",
     "text": [
      "Accuracy: 0.46511627906976744\n",
      "Classification Report:\n",
      "              precision    recall  f1-score   support\n",
      "\n",
      "           1       0.00      0.00      0.00        12\n",
      "           2       0.44      0.88      0.59        17\n",
      "           3       0.00      0.00      0.00         4\n",
      "           5       0.00      0.00      0.00         2\n",
      "           6       0.00      0.00      0.00         2\n",
      "           7       0.62      0.83      0.71         6\n",
      "\n",
      "    accuracy                           0.47        43\n",
      "   macro avg       0.18      0.29      0.22        43\n",
      "weighted avg       0.26      0.47      0.33        43\n",
      "\n"
     ]
    }
   ],
   "source": [
    "#question - 2\n",
    "import pandas as pd\n",
    "from sklearn.model_selection import train_test_split\n",
    "from sklearn.svm import LinearSVC\n",
    "from sklearn.metrics import classification_report\n",
    "import warnings\n",
    "warnings.filterwarnings('ignore')\n",
    "\n",
    "# Load the 'glass' dataset\n",
    "glass_data = pd.read_csv('glass.csv')\n",
    "X = glass_data.drop('Type', axis=1)\n",
    "y = glass_data['Type']\n",
    "\n",
    "# Split the dataset into training and testing sets\n",
    "X_train, X_test, y_train, y_test = train_test_split(X, y, test_size=0.2, random_state=30)\n",
    "\n",
    "# Create a Linear SVM classifier\n",
    "svm = LinearSVC()\n",
    "\n",
    "# Train the classifier on the training data\n",
    "svm.fit(X_train, y_train)\n",
    "\n",
    "# Predict the labels for the test set\n",
    "y_pred = svm.predict(X_test)\n",
    "\n",
    "# Evaluate the model\n",
    "score = svm.score(X_test, y_test)\n",
    "report = classification_report(y_test, y_pred)\n",
    "print(\"Accuracy:\", score)\n",
    "print(\"Classification Report:\")\n",
    "print(report)\n"
   ]
  },
  {
   "cell_type": "code",
   "execution_count": 8,
   "id": "20ba03ca",
   "metadata": {},
   "outputs": [
    {
     "name": "stdout",
     "output_type": "stream",
     "text": [
      "Mean Squared Error (Train): 35461819.09962149\n",
      "Mean Squared Error (Test): 26123894.60572844\n"
     ]
    },
    {
     "data": {
      "image/png": "[encoded data removed]",
      "text/plain": [
       "<Figure size 432x288 with 1 Axes>"
      ]
     },
     "metadata": {
      "needs_background": "light"
     },
     "output_type": "display_data"
    }
   ],
   "source": [
    "#question-3\n",
    "import pandas as pd\n",
    "import numpy as np\n",
    "import matplotlib.pyplot as plt\n",
    "from sklearn.model_selection import train_test_split\n",
    "from sklearn.linear_model import LinearRegression\n",
    "from sklearn.metrics import mean_squared_error\n",
    "\n",
    "# Step a: Import the CSV file\n",
    "data = pd.read_csv('Salary_Data.csv')\n",
    "\n",
    "# Step b: Split the data into train and test sets\n",
    "X = data.iloc[:, :-1].values\n",
    "y = data.iloc[:, -1].values\n",
    "X_train, X_test, y_train, y_test = train_test_split(X, y, test_size=0.3, random_state=30)\n",
    "\n",
    "# Step c: Train and predict using Linear Regression\n",
    "regressor = LinearRegression()\n",
    "regressor.fit(X_train, y_train)\n",
    "y_pred_train = regressor.predict(X_train)\n",
    "y_pred_test = regressor.predict(X_test)\n",
    "\n",
    "# Step d: Calculate mean squared error\n",
    "mse_train = mean_squared_error(y_train, y_pred_train)\n",
    "mse_test = mean_squared_error(y_test, y_pred_test)\n",
    "print(\"Mean Squared Error (Train):\", mse_train)\n",
    "print(\"Mean Squared Error (Test):\", mse_test)\n",
    "\n",
    "# Step e: Visualize the data\n",
    "plt.scatter(X_train, y_train, color='blue', label='Train Data')\n",
    "plt.scatter(X_test, y_test, color='red', label='Test Data')\n",
    "plt.plot(X_train, y_pred_train, color='green', label='Linear Regression')\n",
    "plt.xlabel('Years of Experience')\n",
    "plt.ylabel('Salary')\n",
    "plt.title('Linear Regression - Salary Prediction')\n",
    "plt.legend()\n",
    "plt.show()\n"
   ]
  },
  {
   "cell_type": "code",
   "execution_count": null,
   "id": "8238cd85",
   "metadata": {},
   "outputs": [],
   "source": []
  }
 ],
 "metadata": {
  "kernelspec": {
   "display_name": "Python 3 (ipykernel)",
   "language": "python",
   "name": "python3"
  },
  "language_info": {
   "codemirror_mode": {
    "name": "ipython",
    "version": 3
   },
   "file_extension": ".py",
   "mimetype": "text/x-python",
   "name": "python",
   "nbconvert_exporter": "python",
   "pygments_lexer": "ipython3",
   "version": "3.9.12"
  }
 },
 "nbformat": 4,
 "nbformat_minor": 5
}
